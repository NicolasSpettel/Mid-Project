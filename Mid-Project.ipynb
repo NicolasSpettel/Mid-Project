{
 "cells": [
  {
   "cell_type": "code",
   "execution_count": 1,
   "id": "3e9121b7",
   "metadata": {},
   "outputs": [],
   "source": [
    "import pandas as pd\n",
    "import numpy as np\n",
    "import datetime\n",
    "import warnings\n",
    "import matplotlib.pyplot as plt\n",
    "import seaborn as sns\n",
    "import random\n",
    "\n",
    "from sklearn.preprocessing import StandardScaler, MinMaxScaler\n",
    "from sklearn.linear_model import LinearRegression, HuberRegressor, RANSACRegressor, TheilSenRegressor\n",
    "from sklearn.model_selection import train_test_split"
   ]
  },
  {
   "cell_type": "code",
   "execution_count": 2,
   "id": "6053b5a0",
   "metadata": {},
   "outputs": [],
   "source": [
    "pd.set_option('display.max_columns', None)\n",
    "warnings.filterwarnings(\"ignore\")\n",
    "sns.set_style(\"whitegrid\")"
   ]
  },
  {
   "cell_type": "markdown",
   "id": "85346e85",
   "metadata": {},
   "source": [
    "# Animal Welfare Center dataset"
   ]
  },
  {
   "cell_type": "code",
   "execution_count": 3,
   "id": "6911c9e5",
   "metadata": {},
   "outputs": [],
   "source": [
    "original_data = pd.read_csv(\"kaggle_files/animal_welfare_center.csv\")"
   ]
  },
  {
   "cell_type": "code",
   "execution_count": 4,
   "id": "26c48608",
   "metadata": {},
   "outputs": [],
   "source": [
    "data = original_data.copy()"
   ]
  },
  {
   "cell_type": "code",
   "execution_count": 5,
   "id": "20899668",
   "metadata": {},
   "outputs": [
    {
     "data": {
      "text/html": [
       "<div>\n",
       "<style scoped>\n",
       "    .dataframe tbody tr th:only-of-type {\n",
       "        vertical-align: middle;\n",
       "    }\n",
       "\n",
       "    .dataframe tbody tr th {\n",
       "        vertical-align: top;\n",
       "    }\n",
       "\n",
       "    .dataframe thead th {\n",
       "        text-align: right;\n",
       "    }\n",
       "</style>\n",
       "<table border=\"1\" class=\"dataframe\">\n",
       "  <thead>\n",
       "    <tr style=\"text-align: right;\">\n",
       "      <th></th>\n",
       "      <th>animal_id_outcome</th>\n",
       "      <th>dob_year</th>\n",
       "      <th>dob_month</th>\n",
       "      <th>age_upon_intake</th>\n",
       "      <th>animal_type</th>\n",
       "      <th>breed</th>\n",
       "      <th>color</th>\n",
       "      <th>intake_condition</th>\n",
       "      <th>intake_type</th>\n",
       "      <th>sex_upon_intake</th>\n",
       "      <th>count</th>\n",
       "      <th>age_upon_intake_(days)</th>\n",
       "      <th>age_upon_intake_(years)</th>\n",
       "      <th>age_upon_intake_age_group</th>\n",
       "      <th>intake_datetime</th>\n",
       "      <th>intake_month</th>\n",
       "      <th>intake_year</th>\n",
       "      <th>intake_monthyear</th>\n",
       "      <th>intake_weekday</th>\n",
       "      <th>intake_hour</th>\n",
       "      <th>intake_number</th>\n",
       "      <th>time_in_shelter</th>\n",
       "      <th>time_in_shelter_days</th>\n",
       "      <th>age_upon_outcome</th>\n",
       "      <th>date_of_birth</th>\n",
       "      <th>sex_upon_outcome</th>\n",
       "      <th>age_upon_outcome_(days)</th>\n",
       "      <th>age_upon_outcome_(years)</th>\n",
       "      <th>age_upon_outcome_age_group</th>\n",
       "      <th>outcome_datetime</th>\n",
       "      <th>outcome_month</th>\n",
       "      <th>outcome_year</th>\n",
       "      <th>outcome_monthyear</th>\n",
       "      <th>outcome_weekday</th>\n",
       "      <th>outcome_hour</th>\n",
       "      <th>outcome_number</th>\n",
       "      <th>outcome_type</th>\n",
       "    </tr>\n",
       "  </thead>\n",
       "  <tbody>\n",
       "    <tr>\n",
       "      <th>0</th>\n",
       "      <td>A006100</td>\n",
       "      <td>2007</td>\n",
       "      <td>7</td>\n",
       "      <td>10 years</td>\n",
       "      <td>Dog</td>\n",
       "      <td>Spinone Italiano Mix</td>\n",
       "      <td>Yellow/White</td>\n",
       "      <td>Normal</td>\n",
       "      <td>Stray</td>\n",
       "      <td>Neutered Male</td>\n",
       "      <td>1</td>\n",
       "      <td>3650</td>\n",
       "      <td>10.0</td>\n",
       "      <td>(7.5, 10.0]</td>\n",
       "      <td>2017-12-07 00:00:00</td>\n",
       "      <td>12</td>\n",
       "      <td>2017</td>\n",
       "      <td>2017-12</td>\n",
       "      <td>Thursday</td>\n",
       "      <td>14</td>\n",
       "      <td>1.0</td>\n",
       "      <td>0 days 14:07:00.000000000</td>\n",
       "      <td>0.588194</td>\n",
       "      <td>10 years</td>\n",
       "      <td>2007-07-09 00:00:00</td>\n",
       "      <td>Neutered Male</td>\n",
       "      <td>3650</td>\n",
       "      <td>10.0</td>\n",
       "      <td>(7.5, 10.0]</td>\n",
       "      <td>2017-12-07 14:07:00</td>\n",
       "      <td>12</td>\n",
       "      <td>2017</td>\n",
       "      <td>2017-12</td>\n",
       "      <td>Thursday</td>\n",
       "      <td>0</td>\n",
       "      <td>1.0</td>\n",
       "      <td>Return to Owner</td>\n",
       "    </tr>\n",
       "    <tr>\n",
       "      <th>1</th>\n",
       "      <td>A006100</td>\n",
       "      <td>2007</td>\n",
       "      <td>7</td>\n",
       "      <td>7 years</td>\n",
       "      <td>Dog</td>\n",
       "      <td>Spinone Italiano Mix</td>\n",
       "      <td>Yellow/White</td>\n",
       "      <td>Normal</td>\n",
       "      <td>Public Assist</td>\n",
       "      <td>Neutered Male</td>\n",
       "      <td>1</td>\n",
       "      <td>2555</td>\n",
       "      <td>7.0</td>\n",
       "      <td>(5.0, 7.5]</td>\n",
       "      <td>2014-12-19 10:21:00</td>\n",
       "      <td>12</td>\n",
       "      <td>2014</td>\n",
       "      <td>2014-12</td>\n",
       "      <td>Friday</td>\n",
       "      <td>10</td>\n",
       "      <td>2.0</td>\n",
       "      <td>1 days 06:14:00.000000000</td>\n",
       "      <td>1.259722</td>\n",
       "      <td>7 years</td>\n",
       "      <td>2007-07-09 00:00:00</td>\n",
       "      <td>Neutered Male</td>\n",
       "      <td>2555</td>\n",
       "      <td>7.0</td>\n",
       "      <td>(5.0, 7.5]</td>\n",
       "      <td>2014-12-20 16:35:00</td>\n",
       "      <td>12</td>\n",
       "      <td>2014</td>\n",
       "      <td>2014-12</td>\n",
       "      <td>Saturday</td>\n",
       "      <td>16</td>\n",
       "      <td>2.0</td>\n",
       "      <td>Return to Owner</td>\n",
       "    </tr>\n",
       "    <tr>\n",
       "      <th>2</th>\n",
       "      <td>A006100</td>\n",
       "      <td>2007</td>\n",
       "      <td>7</td>\n",
       "      <td>6 years</td>\n",
       "      <td>Dog</td>\n",
       "      <td>Spinone Italiano Mix</td>\n",
       "      <td>Yellow/White</td>\n",
       "      <td>Normal</td>\n",
       "      <td>Public Assist</td>\n",
       "      <td>Neutered Male</td>\n",
       "      <td>1</td>\n",
       "      <td>2190</td>\n",
       "      <td>6.0</td>\n",
       "      <td>(5.0, 7.5]</td>\n",
       "      <td>2014-03-07 14:26:00</td>\n",
       "      <td>3</td>\n",
       "      <td>2014</td>\n",
       "      <td>2014-03</td>\n",
       "      <td>Friday</td>\n",
       "      <td>14</td>\n",
       "      <td>3.0</td>\n",
       "      <td>1 days 02:44:00.000000000</td>\n",
       "      <td>1.113889</td>\n",
       "      <td>6 years</td>\n",
       "      <td>2007-07-09 00:00:00</td>\n",
       "      <td>Neutered Male</td>\n",
       "      <td>2190</td>\n",
       "      <td>6.0</td>\n",
       "      <td>(5.0, 7.5]</td>\n",
       "      <td>NaN</td>\n",
       "      <td>3</td>\n",
       "      <td>2014</td>\n",
       "      <td>2014-03</td>\n",
       "      <td>Saturday</td>\n",
       "      <td>17</td>\n",
       "      <td>3.0</td>\n",
       "      <td>Return to Owner</td>\n",
       "    </tr>\n",
       "    <tr>\n",
       "      <th>3</th>\n",
       "      <td>A047759</td>\n",
       "      <td>2004</td>\n",
       "      <td>4</td>\n",
       "      <td>10 years</td>\n",
       "      <td>Dog</td>\n",
       "      <td>Dachshund</td>\n",
       "      <td>Tricolor</td>\n",
       "      <td>Normal</td>\n",
       "      <td>Owner Surrender</td>\n",
       "      <td>Neutered Male</td>\n",
       "      <td>1</td>\n",
       "      <td>3650</td>\n",
       "      <td>10.0</td>\n",
       "      <td>(7.5, 10.0]</td>\n",
       "      <td>2014-04-02 15:55:00</td>\n",
       "      <td>4</td>\n",
       "      <td>2014</td>\n",
       "      <td>2014-04</td>\n",
       "      <td>Wednesday</td>\n",
       "      <td>15</td>\n",
       "      <td>1.0</td>\n",
       "      <td>4 days 23:17:00.000000000</td>\n",
       "      <td>4.970139</td>\n",
       "      <td>10 years</td>\n",
       "      <td>2004-04-02 00:00:00</td>\n",
       "      <td>Neutered Male</td>\n",
       "      <td>3650</td>\n",
       "      <td>10.0</td>\n",
       "      <td>(7.5, 10.0]</td>\n",
       "      <td>2014-04-07 15:12:00</td>\n",
       "      <td>4</td>\n",
       "      <td>2014</td>\n",
       "      <td>2014-04</td>\n",
       "      <td>Monday</td>\n",
       "      <td>15</td>\n",
       "      <td>1.0</td>\n",
       "      <td>Missing</td>\n",
       "    </tr>\n",
       "    <tr>\n",
       "      <th>4</th>\n",
       "      <td>A134067</td>\n",
       "      <td>1997</td>\n",
       "      <td>10</td>\n",
       "      <td>16 years</td>\n",
       "      <td>Dog</td>\n",
       "      <td>Shetland Sheepdog</td>\n",
       "      <td>Brown/White</td>\n",
       "      <td>Injured</td>\n",
       "      <td>Public Assist</td>\n",
       "      <td>Neutered Male</td>\n",
       "      <td>1</td>\n",
       "      <td>5840</td>\n",
       "      <td>16.0</td>\n",
       "      <td>(15.0, 17.5]</td>\n",
       "      <td>2013-11-16 09:02:00</td>\n",
       "      <td>11</td>\n",
       "      <td>2013</td>\n",
       "      <td>2013-11</td>\n",
       "      <td>Saturday</td>\n",
       "      <td>9</td>\n",
       "      <td>1.0</td>\n",
       "      <td>0 days 02:52:00.000000000</td>\n",
       "      <td>0.119444</td>\n",
       "      <td>16 years</td>\n",
       "      <td>1997-10-16 00:00:00</td>\n",
       "      <td>Neutered Male</td>\n",
       "      <td>5840</td>\n",
       "      <td>16.0</td>\n",
       "      <td>(15.0, 17.5]</td>\n",
       "      <td>2013-11-16 11:54:00</td>\n",
       "      <td>11</td>\n",
       "      <td>2013</td>\n",
       "      <td>2013-11</td>\n",
       "      <td>Saturday</td>\n",
       "      <td>11</td>\n",
       "      <td>1.0</td>\n",
       "      <td>Return to Owner</td>\n",
       "    </tr>\n",
       "  </tbody>\n",
       "</table>\n",
       "</div>"
      ],
      "text/plain": [
       "  animal_id_outcome  dob_year  dob_month age_upon_intake animal_type  \\\n",
       "0           A006100      2007          7        10 years         Dog   \n",
       "1           A006100      2007          7         7 years         Dog   \n",
       "2           A006100      2007          7         6 years         Dog   \n",
       "3           A047759      2004          4        10 years         Dog   \n",
       "4           A134067      1997         10        16 years         Dog   \n",
       "\n",
       "                  breed         color intake_condition      intake_type  \\\n",
       "0  Spinone Italiano Mix  Yellow/White           Normal            Stray   \n",
       "1  Spinone Italiano Mix  Yellow/White           Normal    Public Assist   \n",
       "2  Spinone Italiano Mix  Yellow/White           Normal    Public Assist   \n",
       "3             Dachshund      Tricolor           Normal  Owner Surrender   \n",
       "4     Shetland Sheepdog   Brown/White          Injured    Public Assist   \n",
       "\n",
       "  sex_upon_intake  count  age_upon_intake_(days)  age_upon_intake_(years)  \\\n",
       "0   Neutered Male      1                    3650                     10.0   \n",
       "1   Neutered Male      1                    2555                      7.0   \n",
       "2   Neutered Male      1                    2190                      6.0   \n",
       "3   Neutered Male      1                    3650                     10.0   \n",
       "4   Neutered Male      1                    5840                     16.0   \n",
       "\n",
       "  age_upon_intake_age_group      intake_datetime  intake_month  intake_year  \\\n",
       "0               (7.5, 10.0]  2017-12-07 00:00:00            12         2017   \n",
       "1                (5.0, 7.5]  2014-12-19 10:21:00            12         2014   \n",
       "2                (5.0, 7.5]  2014-03-07 14:26:00             3         2014   \n",
       "3               (7.5, 10.0]  2014-04-02 15:55:00             4         2014   \n",
       "4              (15.0, 17.5]  2013-11-16 09:02:00            11         2013   \n",
       "\n",
       "  intake_monthyear intake_weekday  intake_hour  intake_number  \\\n",
       "0          2017-12       Thursday           14            1.0   \n",
       "1          2014-12         Friday           10            2.0   \n",
       "2          2014-03         Friday           14            3.0   \n",
       "3          2014-04      Wednesday           15            1.0   \n",
       "4          2013-11       Saturday            9            1.0   \n",
       "\n",
       "             time_in_shelter  time_in_shelter_days age_upon_outcome  \\\n",
       "0  0 days 14:07:00.000000000              0.588194         10 years   \n",
       "1  1 days 06:14:00.000000000              1.259722          7 years   \n",
       "2  1 days 02:44:00.000000000              1.113889          6 years   \n",
       "3  4 days 23:17:00.000000000              4.970139         10 years   \n",
       "4  0 days 02:52:00.000000000              0.119444         16 years   \n",
       "\n",
       "         date_of_birth sex_upon_outcome  age_upon_outcome_(days)  \\\n",
       "0  2007-07-09 00:00:00    Neutered Male                     3650   \n",
       "1  2007-07-09 00:00:00    Neutered Male                     2555   \n",
       "2  2007-07-09 00:00:00    Neutered Male                     2190   \n",
       "3  2004-04-02 00:00:00    Neutered Male                     3650   \n",
       "4  1997-10-16 00:00:00    Neutered Male                     5840   \n",
       "\n",
       "   age_upon_outcome_(years) age_upon_outcome_age_group     outcome_datetime  \\\n",
       "0                      10.0                (7.5, 10.0]  2017-12-07 14:07:00   \n",
       "1                       7.0                 (5.0, 7.5]  2014-12-20 16:35:00   \n",
       "2                       6.0                 (5.0, 7.5]                  NaN   \n",
       "3                      10.0                (7.5, 10.0]  2014-04-07 15:12:00   \n",
       "4                      16.0               (15.0, 17.5]  2013-11-16 11:54:00   \n",
       "\n",
       "   outcome_month  outcome_year outcome_monthyear outcome_weekday  \\\n",
       "0             12          2017           2017-12        Thursday   \n",
       "1             12          2014           2014-12        Saturday   \n",
       "2              3          2014           2014-03        Saturday   \n",
       "3              4          2014           2014-04          Monday   \n",
       "4             11          2013           2013-11        Saturday   \n",
       "\n",
       "   outcome_hour  outcome_number     outcome_type  \n",
       "0             0             1.0  Return to Owner  \n",
       "1            16             2.0  Return to Owner  \n",
       "2            17             3.0  Return to Owner  \n",
       "3            15             1.0          Missing  \n",
       "4            11             1.0  Return to Owner  "
      ]
     },
     "execution_count": 5,
     "metadata": {},
     "output_type": "execute_result"
    }
   ],
   "source": [
    "data.head()"
   ]
  },
  {
   "cell_type": "code",
   "execution_count": 6,
   "id": "0e387344",
   "metadata": {},
   "outputs": [
    {
     "name": "stdout",
     "output_type": "stream",
     "text": [
      "<class 'pandas.core.frame.DataFrame'>\n",
      "RangeIndex: 47803 entries, 0 to 47802\n",
      "Data columns (total 37 columns):\n",
      " #   Column                      Non-Null Count  Dtype  \n",
      "---  ------                      --------------  -----  \n",
      " 0   animal_id_outcome           47803 non-null  object \n",
      " 1   dob_year                    47803 non-null  int64  \n",
      " 2   dob_month                   47803 non-null  int64  \n",
      " 3   age_upon_intake             47803 non-null  object \n",
      " 4   animal_type                 47803 non-null  object \n",
      " 5   breed                       47803 non-null  object \n",
      " 6   color                       47803 non-null  object \n",
      " 7   intake_condition            47803 non-null  object \n",
      " 8   intake_type                 47803 non-null  object \n",
      " 9   sex_upon_intake             47802 non-null  object \n",
      " 10  count                       47803 non-null  int64  \n",
      " 11  age_upon_intake_(days)      47803 non-null  int64  \n",
      " 12  age_upon_intake_(years)     47803 non-null  float64\n",
      " 13  age_upon_intake_age_group   47803 non-null  object \n",
      " 14  intake_datetime             47803 non-null  object \n",
      " 15  intake_month                47803 non-null  int64  \n",
      " 16  intake_year                 47803 non-null  int64  \n",
      " 17  intake_monthyear            47803 non-null  object \n",
      " 18  intake_weekday              47803 non-null  object \n",
      " 19  intake_hour                 47803 non-null  int64  \n",
      " 20  intake_number               47803 non-null  float64\n",
      " 21  time_in_shelter             47803 non-null  object \n",
      " 22  time_in_shelter_days        47803 non-null  float64\n",
      " 23  age_upon_outcome            47803 non-null  object \n",
      " 24  date_of_birth               47803 non-null  object \n",
      " 25  sex_upon_outcome            47802 non-null  object \n",
      " 26  age_upon_outcome_(days)     47803 non-null  int64  \n",
      " 27  age_upon_outcome_(years)    47803 non-null  float64\n",
      " 28  age_upon_outcome_age_group  47803 non-null  object \n",
      " 29  outcome_datetime            38184 non-null  object \n",
      " 30  outcome_month               47803 non-null  int64  \n",
      " 31  outcome_year                47803 non-null  int64  \n",
      " 32  outcome_monthyear           47803 non-null  object \n",
      " 33  outcome_weekday             47803 non-null  object \n",
      " 34  outcome_hour                47803 non-null  int64  \n",
      " 35  outcome_number              47803 non-null  float64\n",
      " 36  outcome_type                47803 non-null  object \n",
      "dtypes: float64(5), int64(11), object(21)\n",
      "memory usage: 13.5+ MB\n"
     ]
    }
   ],
   "source": [
    "data.info()"
   ]
  },
  {
   "cell_type": "markdown",
   "id": "33003d1b",
   "metadata": {},
   "source": [
    "## Data Cleaning"
   ]
  },
  {
   "cell_type": "code",
   "execution_count": 7,
   "id": "b434e83d",
   "metadata": {},
   "outputs": [],
   "source": [
    "# List of columns that have unnecessary/redundant information\n",
    "drop_columns = [\"age_upon_intake\", \"count\", \"age_upon_intake_(days)\", \"intake_datetime\", \"time_in_shelter\",\n",
    "                \"intake_monthyear\" , \"age_upon_outcome\", \"date_of_birth\", \"age_upon_outcome_(days)\",\n",
    "                \"sex_upon_outcome\", \"age_upon_intake_age_group\", \"age_upon_outcome_age_group\",\n",
    "                \"outcome_datetime\", \"outcome_monthyear\", \"outcome_number\", \"intake_hour\", \"outcome_hour\"]"
   ]
  },
  {
   "cell_type": "code",
   "execution_count": 8,
   "id": "74338d00",
   "metadata": {},
   "outputs": [],
   "source": [
    "# select numerical features for correlations\n",
    "numerical = data.select_dtypes(np.number)"
   ]
  },
  {
   "cell_type": "code",
   "execution_count": 9,
   "id": "80f9d87b",
   "metadata": {},
   "outputs": [
    {
     "data": {
      "image/png": "[encoded data removed]",
      "text/plain": [
       "<Figure size 720x576 with 2 Axes>"
      ]
     },
     "metadata": {},
     "output_type": "display_data"
    }
   ],
   "source": [
    "correlations = numerical.corr() # create the correlations\n",
    "\n",
    "mask = np.zeros_like(correlations) # create an array with size of correlations\n",
    "\n",
    "mask[np.triu_indices_from(mask)] = True # optional, to hide repeat half of the matrix\n",
    "\n",
    "fig, ax = plt.subplots(figsize=(10, 8))\n",
    "ax = sns.heatmap(correlations, mask=mask, annot=True)\n",
    "plt.show()"
   ]
  },
  {
   "cell_type": "markdown",
   "id": "63046c8a",
   "metadata": {},
   "source": [
    "#### Outcome and income values are almost the same because the duration that animals spent at the center are short, therefore high correlations. More columns need to be dropped."
   ]
  },
  {
   "cell_type": "code",
   "execution_count": 10,
   "id": "62898f9f",
   "metadata": {},
   "outputs": [],
   "source": [
    "# Dropping more columns after reducing the data\n",
    "drop_columns.extend([\"dob_year\", \"age_upon_outcome_(days)\", \"age_upon_outcome_(years)\", \"outcome_year\"]) # use extend([]) instead of multiple append()"
   ]
  },
  {
   "cell_type": "code",
   "execution_count": 11,
   "id": "0333c4cc",
   "metadata": {},
   "outputs": [
    {
     "data": {
      "text/plain": [
       "0.8928100746815053"
      ]
     },
     "execution_count": 11,
     "metadata": {},
     "output_type": "execute_result"
    }
   ],
   "source": [
    "len(data.animal_id_outcome.unique())/len(data)"
   ]
  },
  {
   "cell_type": "markdown",
   "id": "94b62d43",
   "metadata": {},
   "source": [
    "#### The data has multiple entries for the same animal. About 89% of our data are unique animals. Enough data will remain after removing the duplicate intakes. The duplicates will be dropped."
   ]
  },
  {
   "cell_type": "code",
   "execution_count": 12,
   "id": "b0a31479",
   "metadata": {},
   "outputs": [],
   "source": [
    "# Remove duplicate rows for same animal\n",
    "data = data[data['intake_number']== 1]"
   ]
  },
  {
   "cell_type": "code",
   "execution_count": 13,
   "id": "edacb0ca",
   "metadata": {},
   "outputs": [],
   "source": [
    "# now useless columns\n",
    "drop_columns.extend([\"animal_id_outcome\", \"intake_number\"]) # use extend([]) instead of multiple append()\n",
    "\n",
    "data = data.drop(columns=drop_columns)                      # dropping unnecessary columns"
   ]
  },
  {
   "cell_type": "code",
   "execution_count": 14,
   "id": "a6fa731a",
   "metadata": {},
   "outputs": [],
   "source": [
    "# Change column names for better understanding\n",
    "data.rename(columns={'age_upon_intake':'age(years)',\n",
    "                        \"sex_upon_intake\" : \"sex\"}, inplace=True)"
   ]
  },
  {
   "cell_type": "code",
   "execution_count": 15,
   "id": "55088b7f",
   "metadata": {},
   "outputs": [
    {
     "name": "stdout",
     "output_type": "stream",
     "text": [
      "------------------------\n",
      "4     4647\n",
      "3     4256\n",
      "5     4136\n",
      "10    3627\n",
      "6     3545\n",
      "8     3527\n",
      "7     3472\n",
      "9     3386\n",
      "1     3105\n",
      "12    3084\n",
      "2     3041\n",
      "11    2865\n",
      "Name: dob_month, dtype: int64\n",
      "------------------------\n",
      "Dog      23873\n",
      "Cat      16192\n",
      "Other     2454\n",
      "Bird       172\n",
      "Name: animal_type, dtype: int64\n",
      "------------------------\n",
      "Domestic Shorthair Mix                         12758\n",
      "Pit Bull Mix                                    2990\n",
      "Chihuahua Shorthair Mix                         2676\n",
      "Labrador Retriever Mix                          2083\n",
      "Domestic Medium Hair Mix                        1218\n",
      "                                               ...  \n",
      "Labrador Retriever/English Springer Spaniel        1\n",
      "Pomeranian/Jack Russell Terrier                    1\n",
      "Golden Retriever/Australian Shepherd               1\n",
      "Jack Russell Terrier/Miniature Schnauzer           1\n",
      "Mastiff/Bloodhound                                 1\n",
      "Name: breed, Length: 1847, dtype: int64\n",
      "------------------------\n",
      "Black/White            4396\n",
      "Black                  3482\n",
      "Brown Tabby            2403\n",
      "Brown                  1922\n",
      "White                  1486\n",
      "                       ... \n",
      "White/Gray Tiger          1\n",
      "Blue Merle/Cream          1\n",
      "Tan/Yellow Brindle        1\n",
      "Brown Brindle/Blue        1\n",
      "Brown/Black Brindle       1\n",
      "Name: color, Length: 443, dtype: int64\n",
      "------------------------\n",
      "Normal      37009\n",
      "Injured      2281\n",
      "Sick         1895\n",
      "Nursing      1123\n",
      "Aged          216\n",
      "Other          91\n",
      "Feral          57\n",
      "Pregnant       19\n",
      "Name: intake_condition, dtype: int64\n",
      "------------------------\n",
      "Stray                 29754\n",
      "Owner Surrender        8127\n",
      "Public Assist          2635\n",
      "Wildlife               1946\n",
      "Euthanasia Request      229\n",
      "Name: intake_type, dtype: int64\n",
      "------------------------\n",
      "Intact Male      13234\n",
      "Intact Female    12373\n",
      "Neutered Male     7066\n",
      "Spayed Female     6220\n",
      "Unknown           3797\n",
      "Name: sex, dtype: int64\n",
      "------------------------\n",
      "1.000000     7032\n",
      "2.000000     5933\n",
      "0.082192     3915\n",
      "3.000000     2949\n",
      "0.164384     2050\n",
      "4.000000     1786\n",
      "5.000000     1644\n",
      "0.076712     1561\n",
      "0.057534     1347\n",
      "6.000000     1119\n",
      "0.410959     1107\n",
      "0.328767     1098\n",
      "0.246575     1068\n",
      "7.000000      951\n",
      "8.000000      890\n",
      "0.493151      860\n",
      "0.038356      835\n",
      "10.000000     685\n",
      "0.739726      659\n",
      "0.019178      630\n",
      "0.575342      555\n",
      "9.000000      553\n",
      "0.657534      417\n",
      "12.000000     376\n",
      "0.821918      326\n",
      "0.904110      256\n",
      "13.000000     253\n",
      "11.000000     250\n",
      "0.000000      208\n",
      "0.008219      205\n",
      "0.005479      203\n",
      "0.002740      184\n",
      "14.000000     163\n",
      "15.000000     140\n",
      "0.010959      115\n",
      "0.016438       99\n",
      "0.095890       77\n",
      "0.013699       70\n",
      "16.000000      56\n",
      "17.000000      36\n",
      "18.000000      14\n",
      "20.000000       9\n",
      "19.000000       5\n",
      "22.000000       2\n",
      "Name: age_upon_intake_(years), dtype: int64\n",
      "------------------------\n",
      "10    4547\n",
      "5     3879\n",
      "6     3840\n",
      "11    3781\n",
      "3     3777\n",
      "12    3427\n",
      "7     3415\n",
      "1     3396\n",
      "2     3221\n",
      "8     3213\n",
      "9     3157\n",
      "4     3038\n",
      "Name: intake_month, dtype: int64\n",
      "------------------------\n",
      "2014    16759\n",
      "2015    16750\n",
      "2016     4225\n",
      "2013     3766\n",
      "2017      989\n",
      "2018      202\n",
      "Name: intake_year, dtype: int64\n",
      "------------------------\n",
      "Saturday     6649\n",
      "Monday       6360\n",
      "Wednesday    6240\n",
      "Tuesday      6209\n",
      "Friday       5976\n",
      "Thursday     5729\n",
      "Sunday       5528\n",
      "Name: intake_weekday, dtype: int64\n",
      "------------------------\n",
      "0.009028      55\n",
      "0.005556      50\n",
      "0.009722      50\n",
      "0.008333      50\n",
      "0.013194      49\n",
      "              ..\n",
      "304.292361     1\n",
      "7.225694       1\n",
      "28.272917      1\n",
      "27.133333      1\n",
      "2.306944       1\n",
      "Name: time_in_shelter_days, Length: 19444, dtype: int64\n",
      "------------------------\n",
      "12    3959\n",
      "10    3945\n",
      "11    3890\n",
      "7     3882\n",
      "3     3802\n",
      "6     3610\n",
      "1     3456\n",
      "8     3448\n",
      "5     3444\n",
      "9     3161\n",
      "2     3147\n",
      "4     2947\n",
      "Name: outcome_month, dtype: int64\n",
      "------------------------\n",
      "Sunday       6775\n",
      "Saturday     6731\n",
      "Tuesday      6239\n",
      "Monday       6179\n",
      "Wednesday    5707\n",
      "Friday       5673\n",
      "Thursday     5387\n",
      "Name: outcome_weekday, dtype: int64\n",
      "------------------------\n",
      "Adoption           11198\n",
      "Transfer           10078\n",
      "Return to Owner     7565\n",
      "Euthanasia          4141\n",
      "Died                2613\n",
      "Missing             2358\n",
      "Relocate            2339\n",
      "Rto-Adopt           2221\n",
      "Disposal             178\n",
      "Name: outcome_type, dtype: int64\n"
     ]
    }
   ],
   "source": [
    "# Exploring the values in our data to look for values that are unclear\n",
    "for i in data.columns:\n",
    "        print(\"------------------------\")\n",
    "        x = data[i].value_counts()\n",
    "        print(x)"
   ]
  },
  {
   "cell_type": "code",
   "execution_count": 16,
   "id": "b73a1ff0",
   "metadata": {},
   "outputs": [],
   "source": [
    "# What animals have these Unknown values\n",
    "# no_sex = data[data[\"sex\"]==\"Unknown\"]\n",
    "# no_sex.animal_type.value_counts()"
   ]
  },
  {
   "cell_type": "code",
   "execution_count": 17,
   "id": "f1642bab",
   "metadata": {
    "scrolled": false
   },
   "outputs": [],
   "source": [
    "no_age = data[data[\"age_upon_intake_(years)\"]==0]                              # select data where age is 0\n",
    "# print(no_age[no_age.dob_month - no_age.intake_month])\n",
    "no_age_list= list(no_age[(no_age.dob_month - no_age.intake_month ) >0 ].index) # get list of those indices \n",
    "data.loc[no_age_list, \"dob_month\"] = data[\"dob_month\"] - 1                     # reduce dob_month by 1 to match intake_month"
   ]
  },
  {
   "cell_type": "markdown",
   "id": "13b26f75",
   "metadata": {},
   "source": [
    "#### The zeros in the \"age_upon_intake_(years)\" are not missing values, they indicate a very young (or new born) animal at the Center. Some wrong values were cleaned."
   ]
  },
  {
   "cell_type": "code",
   "execution_count": 18,
   "id": "c76255a8",
   "metadata": {},
   "outputs": [],
   "source": [
    "data[\"sex\"] = data['sex'].replace('Unknown', np.NaN)  # Replacing \"Unknown\" strings with Nans"
   ]
  },
  {
   "cell_type": "code",
   "execution_count": 19,
   "id": "193db39c",
   "metadata": {
    "scrolled": true
   },
   "outputs": [
    {
     "data": {
      "text/plain": [
       "Intact Male      0.309995\n",
       "Intact Female    0.289827\n",
       "Neutered Male    0.165515\n",
       "Spayed Female    0.145698\n",
       "NaN              0.088965\n",
       "Name: sex, dtype: float64"
      ]
     },
     "execution_count": 19,
     "metadata": {},
     "output_type": "execute_result"
    }
   ],
   "source": [
    "data.sex.value_counts(dropna =False)/len(data) # How much of the data are NaNs now?"
   ]
  },
  {
   "cell_type": "markdown",
   "id": "aeffc422",
   "metadata": {},
   "source": [
    "#### With around 9% of our data being NaNs we will not drop them, instead we will fill the missing values randomly with values from that column."
   ]
  },
  {
   "cell_type": "code",
   "execution_count": 20,
   "id": "b9e1f557",
   "metadata": {},
   "outputs": [],
   "source": [
    "def random_nans(df, col):                                   # take the dataframe and the specified column\n",
    "    print(\"NaNs before:\", df[col].isna().sum())             # sanity check for NaNs before removing\n",
    "    \n",
    "    x = df.copy()                                           # copy dataframe for mask\n",
    "    mask = df[col].isna()                                   # create the mask correlating to NaNs\n",
    "    sexes = df[col].dropna().unique()                       # get unique entries in specified column\n",
    "    \n",
    "    x.loc[mask, col] = random.choices(sexes, k=mask.sum())    # apply mask to copied dataframe and replace NaNs \n",
    "                                                                                 # with random entries from the list\n",
    "    print(\"NaNs after:\" , x[col].isna().sum())              # sanity check for NaNs after removing\n",
    "    return x"
   ]
  },
  {
   "cell_type": "code",
   "execution_count": 21,
   "id": "e3d662ba",
   "metadata": {},
   "outputs": [
    {
     "name": "stdout",
     "output_type": "stream",
     "text": [
      "NaNs before: 3798\n",
      "NaNs after: 0\n"
     ]
    }
   ],
   "source": [
    "data = random_nans(data, \"sex\")"
   ]
  },
  {
   "cell_type": "code",
   "execution_count": 22,
   "id": "330e8bf8",
   "metadata": {},
   "outputs": [],
   "source": [
    "def group_by_value(data,col,num,rename):                         # take 4 arguments: dataframe, column to modify,\n",
    "                                                                 # cut of number and string u want to rename the NaNs to\n",
    "    data2 = data.copy()\n",
    "    \n",
    "    breed1 = pd.DataFrame([data2[col].value_counts()<num]).T     # select dataframe where column has values less than specified\n",
    "    mask1 = breed1.loc[breed1[col]==True].index                  # create mask with index of selected data\n",
    "    df1 = data2[data2[col].isin(mask1)]                          # create dataframe with mask\n",
    "    df1[col] = rename                                            # rename all entries in column\n",
    "\n",
    "    #similar to code above, this time with values >= to specified number\n",
    "    breed2 = pd.DataFrame([data2[col].value_counts()>=num]).T\n",
    "    mask2 = breed2.loc[breed2[col]==True].index\n",
    "    df2 = data2[data2[col].isin(mask2)]\n",
    "\n",
    "    df = pd.concat([df1,df2] , axis = 0)                          # Combine modified dataframe with unmodified \n",
    "    \n",
    "    print(\"The\", col, \"column now has\", len(df[col].value_counts()), \"unique entries\")\n",
    "    return df"
   ]
  },
  {
   "cell_type": "code",
   "execution_count": 23,
   "id": "309d357c",
   "metadata": {},
   "outputs": [
    {
     "name": "stdout",
     "output_type": "stream",
     "text": [
      "The breed column now has 50 unique entries\n",
      "The color column now has 53 unique entries\n"
     ]
    }
   ],
   "source": [
    "data = group_by_value(data, \"breed\", 100, \"Other\")\n",
    "data = group_by_value(data,\"color\", 120, \"Other\")"
   ]
  },
  {
   "cell_type": "code",
   "execution_count": 24,
   "id": "bf54db2a",
   "metadata": {},
   "outputs": [],
   "source": [
    "data = data.reset_index(drop=True)"
   ]
  },
  {
   "cell_type": "markdown",
   "id": "8b998b4f",
   "metadata": {},
   "source": [
    "## Data Exploration"
   ]
  },
  {
   "cell_type": "code",
   "execution_count": 25,
   "id": "1e5771a2",
   "metadata": {},
   "outputs": [
    {
     "name": "stdout",
     "output_type": "stream",
     "text": [
      "dob_month\n"
     ]
    },
    {
     "data": {
      "image/png": "[encoded data removed]",
      "text/plain": [
       "<Figure size 432x288 with 1 Axes>"
      ]
     },
     "metadata": {},
     "output_type": "display_data"
    },
    {
     "name": "stdout",
     "output_type": "stream",
     "text": [
      "age_upon_intake_(years)\n"
     ]
    },
    {
     "data": {
      "image/png": "[encoded data removed]",
      "text/plain": [
       "<Figure size 432x288 with 1 Axes>"
      ]
     },
     "metadata": {},
     "output_type": "display_data"
    },
    {
     "name": "stdout",
     "output_type": "stream",
     "text": [
      "intake_month\n"
     ]
    },
    {
     "data": {
      "image/png": "[encoded data removed]",
      "text/plain": [
       "<Figure size 432x288 with 1 Axes>"
      ]
     },
     "metadata": {},
     "output_type": "display_data"
    },
    {
     "name": "stdout",
     "output_type": "stream",
     "text": [
      "intake_year\n"
     ]
    },
    {
     "data": {
      "image/png": "[encoded data removed]",
      "text/plain": [
       "<Figure size 432x288 with 1 Axes>"
      ]
     },
     "metadata": {},
     "output_type": "display_data"
    },
    {
     "name": "stdout",
     "output_type": "stream",
     "text": [
      "time_in_shelter_days\n"
     ]
    },
    {
     "data": {
      "image/png": "[encoded data removed]",
      "text/plain": [
       "<Figure size 432x288 with 1 Axes>"
      ]
     },
     "metadata": {},
     "output_type": "display_data"
    },
    {
     "name": "stdout",
     "output_type": "stream",
     "text": [
      "outcome_month\n"
     ]
    },
    {
     "data": {
      "image/png": "[encoded data removed]",
      "text/plain": [
       "<Figure size 432x288 with 1 Axes>"
      ]
     },
     "metadata": {},
     "output_type": "display_data"
    }
   ],
   "source": [
    "# iterate over all numerical columns and show the boxplot for each\n",
    "numerical = data.select_dtypes(np.number)\n",
    "for item in numerical.columns: \n",
    "    print(item)\n",
    "    sns.boxplot(x = numerical[item])\n",
    "    plt.show()"
   ]
  },
  {
   "cell_type": "markdown",
   "id": "7adf9d43",
   "metadata": {},
   "source": [
    "#### The data has a lot of outliers, we will analyze the importance of these outliers and work with two datasets for now."
   ]
  },
  {
   "cell_type": "code",
   "execution_count": 26,
   "id": "b0ce095d",
   "metadata": {},
   "outputs": [
    {
     "name": "stdout",
     "output_type": "stream",
     "text": [
      "Shape of dataset with outliers: (42691, 15)\n",
      "Shape of dataset without outliers: (36833, 15)\n"
     ]
    }
   ],
   "source": [
    "iqr = np.percentile(data[\"time_in_shelter_days\"], 75) - np.percentile(data[\"time_in_shelter_days\"], 25)\n",
    "upper_limit = np.percentile(data[\"time_in_shelter_days\"], 75) + 1.5 * iqr\n",
    "lower_limit = np.percentile(data[\"time_in_shelter_days\"], 25) - 1.5 * iqr\n",
    "\n",
    "mask_outlier = (data.time_in_shelter_days > upper_limit) | (data.time_in_shelter_days < lower_limit) # condition of being an outlier\n",
    "mask_not_outlier = ( data.time_in_shelter_days <= upper_limit) & (data.time_in_shelter_days >= lower_limit) # condition of not not being outlier \n",
    "outliers_time_in_shelter_days = data[mask_outlier] # here it is the dataset with the outliers of time_in_shelter_days\n",
    "cleaned_outliers_time_in_shelter_days = data[mask_not_outlier ] # here we have the dataset without outliers of time_in_shelter_days\n",
    "#display(cleaned_outliers)\n",
    "data_no_outl = data[(data.time_in_shelter_days < upper_limit) & (data.time_in_shelter_days > lower_limit)]\n",
    "print(\"Shape of dataset with outliers:\", data.shape)\n",
    "print(\"Shape of dataset without outliers:\", data_no_outl.shape)"
   ]
  },
  {
   "cell_type": "code",
   "execution_count": 27,
   "id": "35f46102",
   "metadata": {},
   "outputs": [
    {
     "data": {
      "text/plain": [
       "<AxesSubplot:ylabel='Density'>"
      ]
     },
     "execution_count": 27,
     "metadata": {},
     "output_type": "execute_result"
    },
    {
     "data": {
      "image/png": "[encoded data removed]",
      "text/plain": [
       "<Figure size 432x288 with 1 Axes>"
      ]
     },
     "metadata": {},
     "output_type": "display_data"
    }
   ],
   "source": [
    "# VISUALIZE VARIABLES VS TARGET\n",
    "y = data_no_outl.time_in_shelter_days\n",
    "sns.distplot(x=y)"
   ]
  },
  {
   "cell_type": "code",
   "execution_count": 28,
   "id": "454f8558",
   "metadata": {},
   "outputs": [
    {
     "data": {
      "image/png": "[encoded data removed]",
      "text/plain": [
       "<Figure size 432x288 with 1 Axes>"
      ]
     },
     "metadata": {},
     "output_type": "display_data"
    },
    {
     "data": {
      "image/png": "[encoded data removed]",
      "text/plain": [
       "<Figure size 432x288 with 1 Axes>"
      ]
     },
     "metadata": {},
     "output_type": "display_data"
    }
   ],
   "source": [
    "sns.barplot(x=\"animal_type\", y=\"time_in_shelter_days\", data=data) # mean of the 3 categories\n",
    "plt.title(\"no outliers\")\n",
    "plt.show()\n",
    "sns.barplot(x=\"animal_type\", y=\"time_in_shelter_days\", data=data_no_outl) # mean of the 3 categories\n",
    "plt.title(\"with outliers\")\n",
    "plt.show()"
   ]
  },
  {
   "cell_type": "code",
   "execution_count": 29,
   "id": "69e36758",
   "metadata": {},
   "outputs": [
    {
     "name": "stdout",
     "output_type": "stream",
     "text": [
      "with outliers: animal_type\n",
      "Bird     11.126470\n",
      "Cat      19.026451\n",
      "Dog      17.038050\n",
      "Other     3.297196\n",
      "Name: time_in_shelter_days, dtype: float64\n",
      "-------------\n",
      "no outliers: animal_type\n",
      "Bird     9.932701\n",
      "Cat      6.032976\n",
      "Dog      6.367014\n",
      "Other    1.151285\n",
      "Name: time_in_shelter_days, dtype: float64\n"
     ]
    }
   ],
   "source": [
    "# average time in shelter by type\n",
    "print(\"with outliers:\" ,data[[\"animal_type\", \"time_in_shelter_days\"]].groupby(\"animal_type\")[\"time_in_shelter_days\"].mean())\n",
    "print(\"-------------\")\n",
    "print(\"no outliers:\" ,data_no_outl[[\"animal_type\", \"time_in_shelter_days\"]].groupby(\"animal_type\")[\"time_in_shelter_days\"].mean()) "
   ]
  },
  {
   "cell_type": "markdown",
   "id": "297ccec8",
   "metadata": {},
   "source": [
    "# What can we see here?"
   ]
  },
  {
   "cell_type": "code",
   "execution_count": 30,
   "id": "909f2d3e",
   "metadata": {},
   "outputs": [],
   "source": [
    "#sns.scatterplot(x=\"breed\", y=\"time_in_shelter_days\", data=data)"
   ]
  },
  {
   "cell_type": "code",
   "execution_count": 31,
   "id": "406ef1f9",
   "metadata": {},
   "outputs": [],
   "source": [
    "#fig, ax = plt.subplots(1,1)\n",
    "#sns.histplot(x=\"time_in_shelter_days\", hue= \"color\", data=data, bins=400)\n",
    "#ax.set_xlim((0,50))\n",
    "#plt.show()"
   ]
  },
  {
   "cell_type": "code",
   "execution_count": 32,
   "id": "6b052266",
   "metadata": {},
   "outputs": [],
   "source": [
    "#sns.boxplot(cleaned_outliers_time_in_shelter_days[\"time_in_shelter_days\"])"
   ]
  },
  {
   "cell_type": "code",
   "execution_count": 33,
   "id": "95e1bbad",
   "metadata": {},
   "outputs": [],
   "source": [
    "#sns.pairplot(data)"
   ]
  },
  {
   "cell_type": "markdown",
   "id": "47c3728a",
   "metadata": {},
   "source": [
    "# Feature Engineering"
   ]
  },
  {
   "cell_type": "code",
   "execution_count": 34,
   "id": "b9763f7d",
   "metadata": {},
   "outputs": [
    {
     "name": "stdout",
     "output_type": "stream",
     "text": [
      "<class 'pandas.core.frame.DataFrame'>\n",
      "RangeIndex: 42691 entries, 0 to 42690\n",
      "Data columns (total 15 columns):\n",
      " #   Column                   Non-Null Count  Dtype  \n",
      "---  ------                   --------------  -----  \n",
      " 0   dob_month                42691 non-null  int64  \n",
      " 1   animal_type              42691 non-null  object \n",
      " 2   breed                    42691 non-null  object \n",
      " 3   color                    42691 non-null  object \n",
      " 4   intake_condition         42691 non-null  object \n",
      " 5   intake_type              42691 non-null  object \n",
      " 6   sex                      42691 non-null  object \n",
      " 7   age_upon_intake_(years)  42691 non-null  float64\n",
      " 8   intake_month             42691 non-null  int64  \n",
      " 9   intake_year              42691 non-null  int64  \n",
      " 10  intake_weekday           42691 non-null  object \n",
      " 11  time_in_shelter_days     42691 non-null  float64\n",
      " 12  outcome_month            42691 non-null  int64  \n",
      " 13  outcome_weekday          42691 non-null  object \n",
      " 14  outcome_type             42691 non-null  object \n",
      "dtypes: float64(2), int64(4), object(9)\n",
      "memory usage: 4.9+ MB\n"
     ]
    }
   ],
   "source": [
    "data.info()"
   ]
  },
  {
   "cell_type": "code",
   "execution_count": 35,
   "id": "b9726572",
   "metadata": {},
   "outputs": [],
   "source": [
    "data = data.drop(columns=[\"outcome_month\", \"outcome_weekday\", \"outcome_type\"])  # not useful for regression"
   ]
  },
  {
   "cell_type": "markdown",
   "id": "75f00f4a",
   "metadata": {},
   "source": [
    "# Outlier Analysis"
   ]
  },
  {
   "cell_type": "code",
   "execution_count": 36,
   "id": "22484d86",
   "metadata": {},
   "outputs": [],
   "source": [
    "feature = \"time_in_shelter_days\"    # target feature                "
   ]
  },
  {
   "cell_type": "code",
   "execution_count": 37,
   "id": "807a35c2",
   "metadata": {},
   "outputs": [],
   "source": [
    "# Function to scale categorical data, either with frequency encoding or dummification\n",
    "def encoding(data, fe):                                          # dataset, option to use frequency encoding\n",
    "    numerical = data.select_dtypes(np.number)                                         # numerical data\n",
    "    categorical = data.select_dtypes(object)                                          # categorical data\n",
    "    if fe:                                                                            # enable frequency encoding?\n",
    "        for col in categorical.columns:\n",
    "            col_enc = (data.groupby(col).size()) / len(data)                          # get relative size for each value\n",
    "            categorical[col] = categorical[col].apply(lambda x : col_enc[x])          # replace values with their relative value\n",
    "        categorical.columns = [str(col) + '_encode' for col in categorical.columns]   # rename columns after encoding\n",
    "    else: \n",
    "        categorical = pd.get_dummies(categorical, drop_first = True)                  # if frequency encoding was not enabled\n",
    "                                                                                      # dummification of features will be used\n",
    "        \n",
    "    data = pd.concat([numerical, categorical] , axis = 1)           # concatenate both numerical and categorical dataframes\n",
    "    return data                                                     # return data"
   ]
  },
  {
   "cell_type": "code",
   "execution_count": 38,
   "id": "07b18972",
   "metadata": {},
   "outputs": [],
   "source": [
    "def model_inplace(data, feature, scaler, model):\n",
    "    X = data[data.columns.drop(feature)]  # features for regression\n",
    "    y = data[feature]                     # target feature         \n",
    "    X_train, X_test, y_train, y_test = train_test_split(X,y, test_size = 0.20, random_state = 42)\n",
    "    X_train = scaler.fit_transform(X_train)\n",
    "    X_test = scaler.transform(X_test)\n",
    "    model.fit(X_train,y_train)\n",
    "    print(scaler, model)\n",
    "    print(\"train:\", model.score(X_train, y_train))\n",
    "    print(\"test:\", model.score(X_test, y_test))\n",
    "    try:\n",
    "        feature_importance = pd.DataFrame({ \n",
    "        \"feature_names\": X.columns,\n",
    "        \"coefficients\": abs(model.coef_)\n",
    "        })\n",
    "        feature_importance = feature_importance.sort_values([\"coefficients\"], ascending=False) # Ranking the features\n",
    "    except:\n",
    "        print(\"NO FEATURES AVAILABLE\")\n",
    "        return 0\n",
    "    return feature_importance"
   ]
  },
  {
   "cell_type": "code",
   "execution_count": 39,
   "id": "02836aae",
   "metadata": {},
   "outputs": [],
   "source": [
    "# different scaler\n",
    "stdscal = StandardScaler()\n",
    "minmax = MinMaxScaler()\n",
    "scaler_list = [stdscal, minmax]\n",
    "\n",
    "#different Regresser\n",
    "lreg = LinearRegression()\n",
    "huber = HuberRegressor(epsilon = 1.2, alpha = 1)\n",
    "ransac = RANSACRegressor(random_state = 42)\n",
    "theil = TheilSenRegressor(random_state = 42)\n",
    "reg_list = [lreg, huber, ransac, theil]"
   ]
  },
  {
   "cell_type": "code",
   "execution_count": 40,
   "id": "a87271a3",
   "metadata": {},
   "outputs": [],
   "source": [
    "fe = False\n",
    "data_enc = encoding(data, fe)\n",
    "data_no_outl_enc = encoding(data_no_outl, fe)\n",
    "data_list = [data_enc, data_no_outl_enc]"
   ]
  },
  {
   "cell_type": "code",
   "execution_count": 41,
   "id": "5cc02133",
   "metadata": {
    "scrolled": false
   },
   "outputs": [
    {
     "name": "stdout",
     "output_type": "stream",
     "text": [
      "NEW DATA\n",
      "\n",
      "StandardScaler() LinearRegression()\n",
      "train: 0.03453377041404748\n",
      "test: 0.02238935102116124\n",
      "\n",
      "StandardScaler() HuberRegressor(alpha=1, epsilon=1.2)\n",
      "train: -0.05401833575189663\n",
      "test: -0.04751520912123408\n",
      "\n",
      "StandardScaler() RANSACRegressor(random_state=42)\n",
      "train: -5.1955202364912505e+23\n",
      "test: -4.173366347227398e+23\n",
      "NO FEATURES AVAILABLE\n",
      "\n",
      "StandardScaler() TheilSenRegressor(random_state=42)\n",
      "train: 0.01638199667499529\n",
      "test: 0.012250450420737025\n",
      "\n",
      "\n",
      "MinMaxScaler() LinearRegression()\n",
      "train: 0.03453377041404726\n",
      "test: 0.02238935102116113\n",
      "\n",
      "MinMaxScaler() HuberRegressor(alpha=1, epsilon=1.2)\n",
      "train: -0.05481930073098029\n",
      "test: -0.047910157229664074\n",
      "\n",
      "MinMaxScaler() RANSACRegressor(random_state=42)\n",
      "train: -3.5709087546006524e+19\n",
      "test: -2.882648120119351e+19\n",
      "NO FEATURES AVAILABLE\n",
      "\n",
      "MinMaxScaler() TheilSenRegressor(random_state=42)\n",
      "train: 0.02719104577984266\n",
      "test: 0.019829015935795558\n",
      "\n",
      "------------------------------------\n",
      "NEW DATA\n",
      "\n",
      "StandardScaler() LinearRegression()\n",
      "train: 0.21424768418741513\n",
      "test: 0.2141121021763368\n",
      "\n",
      "StandardScaler() HuberRegressor(alpha=1, epsilon=1.2)\n",
      "train: 0.11741850802790965\n",
      "test: 0.12332828937131435\n",
      "\n",
      "StandardScaler() RANSACRegressor(random_state=42)\n",
      "train: -4.044661865230319e+25\n",
      "test: -4.4693966884858745e+25\n",
      "NO FEATURES AVAILABLE\n",
      "\n",
      "StandardScaler() TheilSenRegressor(random_state=42)\n",
      "train: 0.13280200689254829\n",
      "test: 0.13613490672778472\n",
      "\n",
      "\n",
      "MinMaxScaler() LinearRegression()\n",
      "train: 0.21424768418741513\n",
      "test: 0.21411210217633692\n",
      "\n",
      "MinMaxScaler() HuberRegressor(alpha=1, epsilon=1.2)\n",
      "train: 0.11635288386200127\n",
      "test: 0.12272733504947919\n",
      "\n",
      "MinMaxScaler() RANSACRegressor(random_state=42)\n",
      "train: -1.4315510284633691e+20\n",
      "test: -1.5102507714509544e+20\n",
      "NO FEATURES AVAILABLE\n",
      "\n",
      "MinMaxScaler() TheilSenRegressor(random_state=42)\n",
      "train: 0.17693755168226588\n",
      "test: 0.17760069702970482\n",
      "\n",
      "------------------------------------\n"
     ]
    }
   ],
   "source": [
    "for data in data_list:\n",
    "    print(\"NEW DATA\")\n",
    "    for scaler in scaler_list:\n",
    "        print(\"\")\n",
    "        for reg in reg_list:\n",
    "            feature_importance = model_inplace(data, feature, scaler, reg)\n",
    "            print(\"\")\n",
    "            #display(feature_importance)\n",
    "    print(\"------------------------------------\")  "
   ]
  },
  {
   "cell_type": "markdown",
   "id": "73336683",
   "metadata": {},
   "source": [
    "#### Score on Data without outliers ist significantly better, after this analysis we keep working with the dataset without outliers."
   ]
  },
  {
   "cell_type": "markdown",
   "id": "a25d8c96",
   "metadata": {},
   "source": [
    "### Extracting data for visualization"
   ]
  },
  {
   "cell_type": "code",
   "execution_count": 42,
   "id": "5d211f45",
   "metadata": {},
   "outputs": [],
   "source": [
    "#data.to_excel(\"Animal_Welfare_Center.xlsx\", index = False)"
   ]
  }
 ],
 "metadata": {
  "kernelspec": {
   "display_name": "Python 3 (ipykernel)",
   "language": "python",
   "name": "python3"
  },
  "language_info": {
   "codemirror_mode": {
    "name": "ipython",
    "version": 3
   },
   "file_extension": ".py",
   "mimetype": "text/x-python",
   "name": "python",
   "nbconvert_exporter": "python",
   "pygments_lexer": "ipython3",
   "version": "3.9.7"
  }
 },
 "nbformat": 4,
 "nbformat_minor": 5
}
